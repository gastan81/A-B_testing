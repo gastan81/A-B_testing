{
 "cells": [
  {
   "cell_type": "markdown",
   "metadata": {},
   "source": [
    "# A/B test for ENIAC"
   ]
  },
  {
   "cell_type": "markdown",
   "metadata": {},
   "source": [
    "## 1. Loading data"
   ]
  },
  {
   "cell_type": "code",
   "execution_count": 172,
   "metadata": {},
   "outputs": [],
   "source": [
    "import pandas as pd\n",
    "from scipy import stats\n",
    "pd.set_option('display.max_colwidth', None)\n",
    "pd.set_option('display.float_format', lambda x: '%.3f' % x)"
   ]
  },
  {
   "cell_type": "code",
   "execution_count": 173,
   "metadata": {},
   "outputs": [],
   "source": [
    "url = \"https://drive.google.com/file/d/1Ah_4aXosUyFj3CF_3NgTVZchtJlKiXoQ/view?usp=sharing\"\n",
    "path = \"https://drive.google.com/uc?export=download&id=\" + url.split(\"/\")[-2]\n",
    "eniac_a = pd.read_csv(path)\n",
    "\n",
    "url = \"https://drive.google.com/file/d/1ISG8oA1zilVIaFIEyzdJ2S3zsEjSMdfJ/view?usp=sharing\"\n",
    "path = \"https://drive.google.com/uc?export=download&id=\" + url.split(\"/\")[-2]\n",
    "eniac_b = pd.read_csv(path)\n",
    "\n",
    "url = \"https://drive.google.com/file/d/1BPUvd1xXkRWRGfv6UvPm5OoFfoTz_w1_/view?usp=sharing\"\n",
    "path = \"https://drive.google.com/uc?export=download&id=\" + url.split(\"/\")[-2]\n",
    "eniac_c = pd.read_csv(path)\n",
    "\n",
    "url = \"https://drive.google.com/file/d/1LY3qHH7MBPPqlGh-zNIfrHBLw8kj1BFQ/view?usp=sharing\"\n",
    "path = \"https://drive.google.com/uc?export=download&id=\" + url.split(\"/\")[-2]\n",
    "eniac_d = pd.read_csv(path)"
   ]
  },
  {
   "cell_type": "markdown",
   "metadata": {},
   "source": [
    "## 2. Exploring data"
   ]
  },
  {
   "cell_type": "code",
   "execution_count": 174,
   "metadata": {},
   "outputs": [
    {
     "name": "stdout",
     "output_type": "stream",
     "text": [
      "<class 'pandas.core.frame.DataFrame'>\n",
      "RangeIndex: 57 entries, 0 to 56\n",
      "Data columns (total 6 columns):\n",
      " #   Column                Non-Null Count  Dtype \n",
      "---  ------                --------------  ----- \n",
      " 0   Element ID            57 non-null     int64 \n",
      " 1   Tag name              57 non-null     object\n",
      " 2   Name                  57 non-null     object\n",
      " 3   No. clicks            57 non-null     int64 \n",
      " 4   Visible?              57 non-null     bool  \n",
      " 5   Snapshot information  2 non-null      object\n",
      "dtypes: bool(1), int64(2), object(3)\n",
      "memory usage: 2.4+ KB\n"
     ]
    }
   ],
   "source": [
    "eniac_a.info()"
   ]
  },
  {
   "cell_type": "code",
   "execution_count": 175,
   "metadata": {},
   "outputs": [
    {
     "data": {
      "text/plain": [
       "'24747'"
      ]
     },
     "execution_count": 175,
     "metadata": {},
     "output_type": "execute_result"
    }
   ],
   "source": [
    "eniac_b.loc[eniac_b['Name'] == 'mySidebar', 'Snapshot information'].str.extract(r'\\s(\\d+)\\svisits').values[0][0]"
   ]
  },
  {
   "cell_type": "code",
   "execution_count": 176,
   "metadata": {},
   "outputs": [
    {
     "data": {
      "text/html": [
       "<div>\n",
       "<style scoped>\n",
       "    .dataframe tbody tr th:only-of-type {\n",
       "        vertical-align: middle;\n",
       "    }\n",
       "\n",
       "    .dataframe tbody tr th {\n",
       "        vertical-align: top;\n",
       "    }\n",
       "\n",
       "    .dataframe thead th {\n",
       "        text-align: right;\n",
       "    }\n",
       "</style>\n",
       "<table border=\"1\" class=\"dataframe\">\n",
       "  <thead>\n",
       "    <tr style=\"text-align: right;\">\n",
       "      <th></th>\n",
       "      <th>Element ID</th>\n",
       "      <th>Tag name</th>\n",
       "      <th>Name</th>\n",
       "      <th>No. clicks</th>\n",
       "      <th>Visible?</th>\n",
       "      <th>Snapshot information</th>\n",
       "    </tr>\n",
       "  </thead>\n",
       "  <tbody>\n",
       "    <tr>\n",
       "      <th>0</th>\n",
       "      <td>48</td>\n",
       "      <td>h1</td>\n",
       "      <td>ENIAC</td>\n",
       "      <td>236</td>\n",
       "      <td>True</td>\n",
       "      <td>Homepage Version B - red SHOP NOW   •   https://eniac.com/index-b.php</td>\n",
       "    </tr>\n",
       "    <tr>\n",
       "      <th>1</th>\n",
       "      <td>25</td>\n",
       "      <td>div</td>\n",
       "      <td>mySidebar</td>\n",
       "      <td>304</td>\n",
       "      <td>True</td>\n",
       "      <td>created 2021-10-27   •   14 days 0 hours 34 mins   •   24747 visits, 22592 clicks</td>\n",
       "    </tr>\n",
       "    <tr>\n",
       "      <th>2</th>\n",
       "      <td>4</td>\n",
       "      <td>a</td>\n",
       "      <td>Mac</td>\n",
       "      <td>268</td>\n",
       "      <td>True</td>\n",
       "      <td>NaN</td>\n",
       "    </tr>\n",
       "    <tr>\n",
       "      <th>3</th>\n",
       "      <td>69</td>\n",
       "      <td>a</td>\n",
       "      <td>iPhone</td>\n",
       "      <td>260</td>\n",
       "      <td>True</td>\n",
       "      <td>NaN</td>\n",
       "    </tr>\n",
       "    <tr>\n",
       "      <th>4</th>\n",
       "      <td>105</td>\n",
       "      <td>a</td>\n",
       "      <td>Accessories</td>\n",
       "      <td>1214</td>\n",
       "      <td>True</td>\n",
       "      <td>NaN</td>\n",
       "    </tr>\n",
       "    <tr>\n",
       "      <th>5</th>\n",
       "      <td>36</td>\n",
       "      <td>a</td>\n",
       "      <td>Chargers &amp; Cables</td>\n",
       "      <td>1259</td>\n",
       "      <td>False</td>\n",
       "      <td>NaN</td>\n",
       "    </tr>\n",
       "    <tr>\n",
       "      <th>6</th>\n",
       "      <td>99</td>\n",
       "      <td>a</td>\n",
       "      <td>iPhone Accessories</td>\n",
       "      <td>1237</td>\n",
       "      <td>False</td>\n",
       "      <td>NaN</td>\n",
       "    </tr>\n",
       "    <tr>\n",
       "      <th>7</th>\n",
       "      <td>68</td>\n",
       "      <td>a</td>\n",
       "      <td>Watch Accessories</td>\n",
       "      <td>1221</td>\n",
       "      <td>False</td>\n",
       "      <td>NaN</td>\n",
       "    </tr>\n",
       "    <tr>\n",
       "      <th>8</th>\n",
       "      <td>13</td>\n",
       "      <td>a</td>\n",
       "      <td>Mac Accessories</td>\n",
       "      <td>1210</td>\n",
       "      <td>False</td>\n",
       "      <td>NaN</td>\n",
       "    </tr>\n",
       "    <tr>\n",
       "      <th>9</th>\n",
       "      <td>15</td>\n",
       "      <td>a</td>\n",
       "      <td>AirTag</td>\n",
       "      <td>195</td>\n",
       "      <td>False</td>\n",
       "      <td>NaN</td>\n",
       "    </tr>\n",
       "    <tr>\n",
       "      <th>10</th>\n",
       "      <td>9</td>\n",
       "      <td>a</td>\n",
       "      <td>iPad</td>\n",
       "      <td>219</td>\n",
       "      <td>True</td>\n",
       "      <td>NaN</td>\n",
       "    </tr>\n",
       "    <tr>\n",
       "      <th>11</th>\n",
       "      <td>52</td>\n",
       "      <td>a</td>\n",
       "      <td>Watch</td>\n",
       "      <td>209</td>\n",
       "      <td>True</td>\n",
       "      <td>NaN</td>\n",
       "    </tr>\n",
       "    <tr>\n",
       "      <th>12</th>\n",
       "      <td>33</td>\n",
       "      <td>a</td>\n",
       "      <td>Storage</td>\n",
       "      <td>203</td>\n",
       "      <td>True</td>\n",
       "      <td>NaN</td>\n",
       "    </tr>\n",
       "    <tr>\n",
       "      <th>13</th>\n",
       "      <td>90</td>\n",
       "      <td>a</td>\n",
       "      <td>Services</td>\n",
       "      <td>170</td>\n",
       "      <td>True</td>\n",
       "      <td>NaN</td>\n",
       "    </tr>\n",
       "    <tr>\n",
       "      <th>14</th>\n",
       "      <td>59</td>\n",
       "      <td>a</td>\n",
       "      <td>Contact</td>\n",
       "      <td>258</td>\n",
       "      <td>True</td>\n",
       "      <td>NaN</td>\n",
       "    </tr>\n",
       "    <tr>\n",
       "      <th>15</th>\n",
       "      <td>17</td>\n",
       "      <td>a</td>\n",
       "      <td>Newsletter</td>\n",
       "      <td>53</td>\n",
       "      <td>True</td>\n",
       "      <td>NaN</td>\n",
       "    </tr>\n",
       "    <tr>\n",
       "      <th>16</th>\n",
       "      <td>74</td>\n",
       "      <td>a</td>\n",
       "      <td>Subscribe</td>\n",
       "      <td>48</td>\n",
       "      <td>True</td>\n",
       "      <td>NaN</td>\n",
       "    </tr>\n",
       "    <tr>\n",
       "      <th>17</th>\n",
       "      <td>18</td>\n",
       "      <td>div</td>\n",
       "      <td>w3-padding-64</td>\n",
       "      <td>294</td>\n",
       "      <td>True</td>\n",
       "      <td>NaN</td>\n",
       "    </tr>\n",
       "    <tr>\n",
       "      <th>18</th>\n",
       "      <td>88</td>\n",
       "      <td>div</td>\n",
       "      <td>w3-display-container</td>\n",
       "      <td>293</td>\n",
       "      <td>True</td>\n",
       "      <td>NaN</td>\n",
       "    </tr>\n",
       "    <tr>\n",
       "      <th>19</th>\n",
       "      <td>76</td>\n",
       "      <td>img</td>\n",
       "      <td>Jeans</td>\n",
       "      <td>893</td>\n",
       "      <td>True</td>\n",
       "      <td>NaN</td>\n",
       "    </tr>\n",
       "    <tr>\n",
       "      <th>20</th>\n",
       "      <td>20</td>\n",
       "      <td>div</td>\n",
       "      <td>w3-display-topleft</td>\n",
       "      <td>298</td>\n",
       "      <td>True</td>\n",
       "      <td>NaN</td>\n",
       "    </tr>\n",
       "    <tr>\n",
       "      <th>21</th>\n",
       "      <td>126</td>\n",
       "      <td>a</td>\n",
       "      <td>SHOP NOW</td>\n",
       "      <td>281</td>\n",
       "      <td>True</td>\n",
       "      <td>NaN</td>\n",
       "    </tr>\n",
       "    <tr>\n",
       "      <th>22</th>\n",
       "      <td>72</td>\n",
       "      <td>img</td>\n",
       "      <td>iphone13_cover</td>\n",
       "      <td>860</td>\n",
       "      <td>True</td>\n",
       "      <td>NaN</td>\n",
       "    </tr>\n",
       "    <tr>\n",
       "      <th>23</th>\n",
       "      <td>46</td>\n",
       "      <td>img</td>\n",
       "      <td>abstract-case</td>\n",
       "      <td>879</td>\n",
       "      <td>True</td>\n",
       "      <td>NaN</td>\n",
       "    </tr>\n",
       "    <tr>\n",
       "      <th>24</th>\n",
       "      <td>6</td>\n",
       "      <td>img</td>\n",
       "      <td>airpods</td>\n",
       "      <td>881</td>\n",
       "      <td>True</td>\n",
       "      <td>NaN</td>\n",
       "    </tr>\n",
       "    <tr>\n",
       "      <th>25</th>\n",
       "      <td>16</td>\n",
       "      <td>img</td>\n",
       "      <td>watch-lgtb</td>\n",
       "      <td>863</td>\n",
       "      <td>True</td>\n",
       "      <td>NaN</td>\n",
       "    </tr>\n",
       "    <tr>\n",
       "      <th>26</th>\n",
       "      <td>30</td>\n",
       "      <td>img</td>\n",
       "      <td>blue-strap</td>\n",
       "      <td>882</td>\n",
       "      <td>True</td>\n",
       "      <td>NaN</td>\n",
       "    </tr>\n",
       "    <tr>\n",
       "      <th>27</th>\n",
       "      <td>108</td>\n",
       "      <td>img</td>\n",
       "      <td>cartoon-case</td>\n",
       "      <td>886</td>\n",
       "      <td>True</td>\n",
       "      <td>NaN</td>\n",
       "    </tr>\n",
       "    <tr>\n",
       "      <th>28</th>\n",
       "      <td>117</td>\n",
       "      <td>img</td>\n",
       "      <td>hermes-case</td>\n",
       "      <td>824</td>\n",
       "      <td>True</td>\n",
       "      <td>NaN</td>\n",
       "    </tr>\n",
       "    <tr>\n",
       "      <th>29</th>\n",
       "      <td>111</td>\n",
       "      <td>img</td>\n",
       "      <td>leopard-case</td>\n",
       "      <td>843</td>\n",
       "      <td>True</td>\n",
       "      <td>NaN</td>\n",
       "    </tr>\n",
       "    <tr>\n",
       "      <th>30</th>\n",
       "      <td>125</td>\n",
       "      <td>img</td>\n",
       "      <td>magnetic-case</td>\n",
       "      <td>872</td>\n",
       "      <td>True</td>\n",
       "      <td>NaN</td>\n",
       "    </tr>\n",
       "    <tr>\n",
       "      <th>31</th>\n",
       "      <td>103</td>\n",
       "      <td>input</td>\n",
       "      <td>Enter e-mail</td>\n",
       "      <td>208</td>\n",
       "      <td>True</td>\n",
       "      <td>NaN</td>\n",
       "    </tr>\n",
       "    <tr>\n",
       "      <th>32</th>\n",
       "      <td>39</td>\n",
       "      <td>button</td>\n",
       "      <td>Subscribe</td>\n",
       "      <td>51</td>\n",
       "      <td>True</td>\n",
       "      <td>NaN</td>\n",
       "    </tr>\n",
       "    <tr>\n",
       "      <th>33</th>\n",
       "      <td>7</td>\n",
       "      <td>div</td>\n",
       "      <td>w3-input</td>\n",
       "      <td>285</td>\n",
       "      <td>True</td>\n",
       "      <td>NaN</td>\n",
       "    </tr>\n",
       "    <tr>\n",
       "      <th>34</th>\n",
       "      <td>81</td>\n",
       "      <td>h4</td>\n",
       "      <td>Contact</td>\n",
       "      <td>281</td>\n",
       "      <td>True</td>\n",
       "      <td>NaN</td>\n",
       "    </tr>\n",
       "    <tr>\n",
       "      <th>35</th>\n",
       "      <td>82</td>\n",
       "      <td>input</td>\n",
       "      <td>Name</td>\n",
       "      <td>206</td>\n",
       "      <td>True</td>\n",
       "      <td>NaN</td>\n",
       "    </tr>\n",
       "    <tr>\n",
       "      <th>36</th>\n",
       "      <td>120</td>\n",
       "      <td>input</td>\n",
       "      <td>Email</td>\n",
       "      <td>198</td>\n",
       "      <td>True</td>\n",
       "      <td>NaN</td>\n",
       "    </tr>\n",
       "    <tr>\n",
       "      <th>37</th>\n",
       "      <td>119</td>\n",
       "      <td>input</td>\n",
       "      <td>Subject</td>\n",
       "      <td>195</td>\n",
       "      <td>True</td>\n",
       "      <td>NaN</td>\n",
       "    </tr>\n",
       "    <tr>\n",
       "      <th>38</th>\n",
       "      <td>32</td>\n",
       "      <td>input</td>\n",
       "      <td>Message</td>\n",
       "      <td>193</td>\n",
       "      <td>True</td>\n",
       "      <td>NaN</td>\n",
       "    </tr>\n",
       "    <tr>\n",
       "      <th>39</th>\n",
       "      <td>73</td>\n",
       "      <td>button</td>\n",
       "      <td>Send</td>\n",
       "      <td>192</td>\n",
       "      <td>True</td>\n",
       "      <td>NaN</td>\n",
       "    </tr>\n",
       "    <tr>\n",
       "      <th>40</th>\n",
       "      <td>67</td>\n",
       "      <td>a</td>\n",
       "      <td>About us</td>\n",
       "      <td>37</td>\n",
       "      <td>True</td>\n",
       "      <td>NaN</td>\n",
       "    </tr>\n",
       "    <tr>\n",
       "      <th>41</th>\n",
       "      <td>54</td>\n",
       "      <td>a</td>\n",
       "      <td>We're hiring</td>\n",
       "      <td>51</td>\n",
       "      <td>True</td>\n",
       "      <td>NaN</td>\n",
       "    </tr>\n",
       "    <tr>\n",
       "      <th>42</th>\n",
       "      <td>84</td>\n",
       "      <td>a</td>\n",
       "      <td>Support</td>\n",
       "      <td>38</td>\n",
       "      <td>True</td>\n",
       "      <td>NaN</td>\n",
       "    </tr>\n",
       "    <tr>\n",
       "      <th>43</th>\n",
       "      <td>34</td>\n",
       "      <td>a</td>\n",
       "      <td>Find store</td>\n",
       "      <td>32</td>\n",
       "      <td>True</td>\n",
       "      <td>NaN</td>\n",
       "    </tr>\n",
       "    <tr>\n",
       "      <th>44</th>\n",
       "      <td>27</td>\n",
       "      <td>a</td>\n",
       "      <td>Shipment</td>\n",
       "      <td>31</td>\n",
       "      <td>True</td>\n",
       "      <td>NaN</td>\n",
       "    </tr>\n",
       "    <tr>\n",
       "      <th>45</th>\n",
       "      <td>21</td>\n",
       "      <td>a</td>\n",
       "      <td>Payment</td>\n",
       "      <td>37</td>\n",
       "      <td>True</td>\n",
       "      <td>NaN</td>\n",
       "    </tr>\n",
       "    <tr>\n",
       "      <th>46</th>\n",
       "      <td>64</td>\n",
       "      <td>a</td>\n",
       "      <td>Gift card</td>\n",
       "      <td>35</td>\n",
       "      <td>True</td>\n",
       "      <td>NaN</td>\n",
       "    </tr>\n",
       "    <tr>\n",
       "      <th>47</th>\n",
       "      <td>113</td>\n",
       "      <td>a</td>\n",
       "      <td>Return</td>\n",
       "      <td>28</td>\n",
       "      <td>True</td>\n",
       "      <td>NaN</td>\n",
       "    </tr>\n",
       "    <tr>\n",
       "      <th>48</th>\n",
       "      <td>53</td>\n",
       "      <td>a</td>\n",
       "      <td>Help</td>\n",
       "      <td>39</td>\n",
       "      <td>True</td>\n",
       "      <td>NaN</td>\n",
       "    </tr>\n",
       "    <tr>\n",
       "      <th>49</th>\n",
       "      <td>60</td>\n",
       "      <td>a</td>\n",
       "      <td>telphone-contact</td>\n",
       "      <td>108</td>\n",
       "      <td>True</td>\n",
       "      <td>NaN</td>\n",
       "    </tr>\n",
       "    <tr>\n",
       "      <th>50</th>\n",
       "      <td>71</td>\n",
       "      <td>a</td>\n",
       "      <td>email-contact</td>\n",
       "      <td>104</td>\n",
       "      <td>True</td>\n",
       "      <td>NaN</td>\n",
       "    </tr>\n",
       "    <tr>\n",
       "      <th>51</th>\n",
       "      <td>8</td>\n",
       "      <td>a</td>\n",
       "      <td>Facebook</td>\n",
       "      <td>275</td>\n",
       "      <td>True</td>\n",
       "      <td>NaN</td>\n",
       "    </tr>\n",
       "    <tr>\n",
       "      <th>52</th>\n",
       "      <td>96</td>\n",
       "      <td>a</td>\n",
       "      <td>Instagram</td>\n",
       "      <td>288</td>\n",
       "      <td>True</td>\n",
       "      <td>NaN</td>\n",
       "    </tr>\n",
       "    <tr>\n",
       "      <th>53</th>\n",
       "      <td>114</td>\n",
       "      <td>a</td>\n",
       "      <td>Snapchat</td>\n",
       "      <td>241</td>\n",
       "      <td>True</td>\n",
       "      <td>NaN</td>\n",
       "    </tr>\n",
       "    <tr>\n",
       "      <th>54</th>\n",
       "      <td>40</td>\n",
       "      <td>a</td>\n",
       "      <td>Pinterest</td>\n",
       "      <td>282</td>\n",
       "      <td>True</td>\n",
       "      <td>NaN</td>\n",
       "    </tr>\n",
       "    <tr>\n",
       "      <th>55</th>\n",
       "      <td>26</td>\n",
       "      <td>a</td>\n",
       "      <td>Twitter</td>\n",
       "      <td>295</td>\n",
       "      <td>True</td>\n",
       "      <td>NaN</td>\n",
       "    </tr>\n",
       "    <tr>\n",
       "      <th>56</th>\n",
       "      <td>98</td>\n",
       "      <td>a</td>\n",
       "      <td>LinkedIn</td>\n",
       "      <td>264</td>\n",
       "      <td>True</td>\n",
       "      <td>NaN</td>\n",
       "    </tr>\n",
       "  </tbody>\n",
       "</table>\n",
       "</div>"
      ],
      "text/plain": [
       "    Element ID Tag name                  Name  No. clicks  Visible?  \\\n",
       "0           48       h1                 ENIAC         236      True   \n",
       "1           25      div             mySidebar         304      True   \n",
       "2            4        a                   Mac         268      True   \n",
       "3           69        a                iPhone         260      True   \n",
       "4          105        a           Accessories        1214      True   \n",
       "5           36        a     Chargers & Cables        1259     False   \n",
       "6           99        a    iPhone Accessories        1237     False   \n",
       "7           68        a     Watch Accessories        1221     False   \n",
       "8           13        a       Mac Accessories        1210     False   \n",
       "9           15        a                AirTag         195     False   \n",
       "10           9        a                  iPad         219      True   \n",
       "11          52        a                 Watch         209      True   \n",
       "12          33        a               Storage         203      True   \n",
       "13          90        a              Services         170      True   \n",
       "14          59        a               Contact         258      True   \n",
       "15          17        a            Newsletter          53      True   \n",
       "16          74        a             Subscribe          48      True   \n",
       "17          18      div         w3-padding-64         294      True   \n",
       "18          88      div  w3-display-container         293      True   \n",
       "19          76      img                 Jeans         893      True   \n",
       "20          20      div    w3-display-topleft         298      True   \n",
       "21         126        a              SHOP NOW         281      True   \n",
       "22          72      img        iphone13_cover         860      True   \n",
       "23          46      img         abstract-case         879      True   \n",
       "24           6      img               airpods         881      True   \n",
       "25          16      img            watch-lgtb         863      True   \n",
       "26          30      img            blue-strap         882      True   \n",
       "27         108      img          cartoon-case         886      True   \n",
       "28         117      img           hermes-case         824      True   \n",
       "29         111      img          leopard-case         843      True   \n",
       "30         125      img         magnetic-case         872      True   \n",
       "31         103    input          Enter e-mail         208      True   \n",
       "32          39   button             Subscribe          51      True   \n",
       "33           7      div              w3-input         285      True   \n",
       "34          81       h4               Contact         281      True   \n",
       "35          82    input                  Name         206      True   \n",
       "36         120    input                 Email         198      True   \n",
       "37         119    input               Subject         195      True   \n",
       "38          32    input               Message         193      True   \n",
       "39          73   button                  Send         192      True   \n",
       "40          67        a              About us          37      True   \n",
       "41          54        a          We're hiring          51      True   \n",
       "42          84        a               Support          38      True   \n",
       "43          34        a            Find store          32      True   \n",
       "44          27        a              Shipment          31      True   \n",
       "45          21        a               Payment          37      True   \n",
       "46          64        a             Gift card          35      True   \n",
       "47         113        a                Return          28      True   \n",
       "48          53        a                  Help          39      True   \n",
       "49          60        a      telphone-contact         108      True   \n",
       "50          71        a         email-contact         104      True   \n",
       "51           8        a              Facebook         275      True   \n",
       "52          96        a             Instagram         288      True   \n",
       "53         114        a              Snapchat         241      True   \n",
       "54          40        a             Pinterest         282      True   \n",
       "55          26        a               Twitter         295      True   \n",
       "56          98        a              LinkedIn         264      True   \n",
       "\n",
       "                                                                 Snapshot information  \n",
       "0               Homepage Version B - red SHOP NOW   •   https://eniac.com/index-b.php  \n",
       "1   created 2021-10-27   •   14 days 0 hours 34 mins   •   24747 visits, 22592 clicks  \n",
       "2                                                                                 NaN  \n",
       "3                                                                                 NaN  \n",
       "4                                                                                 NaN  \n",
       "5                                                                                 NaN  \n",
       "6                                                                                 NaN  \n",
       "7                                                                                 NaN  \n",
       "8                                                                                 NaN  \n",
       "9                                                                                 NaN  \n",
       "10                                                                                NaN  \n",
       "11                                                                                NaN  \n",
       "12                                                                                NaN  \n",
       "13                                                                                NaN  \n",
       "14                                                                                NaN  \n",
       "15                                                                                NaN  \n",
       "16                                                                                NaN  \n",
       "17                                                                                NaN  \n",
       "18                                                                                NaN  \n",
       "19                                                                                NaN  \n",
       "20                                                                                NaN  \n",
       "21                                                                                NaN  \n",
       "22                                                                                NaN  \n",
       "23                                                                                NaN  \n",
       "24                                                                                NaN  \n",
       "25                                                                                NaN  \n",
       "26                                                                                NaN  \n",
       "27                                                                                NaN  \n",
       "28                                                                                NaN  \n",
       "29                                                                                NaN  \n",
       "30                                                                                NaN  \n",
       "31                                                                                NaN  \n",
       "32                                                                                NaN  \n",
       "33                                                                                NaN  \n",
       "34                                                                                NaN  \n",
       "35                                                                                NaN  \n",
       "36                                                                                NaN  \n",
       "37                                                                                NaN  \n",
       "38                                                                                NaN  \n",
       "39                                                                                NaN  \n",
       "40                                                                                NaN  \n",
       "41                                                                                NaN  \n",
       "42                                                                                NaN  \n",
       "43                                                                                NaN  \n",
       "44                                                                                NaN  \n",
       "45                                                                                NaN  \n",
       "46                                                                                NaN  \n",
       "47                                                                                NaN  \n",
       "48                                                                                NaN  \n",
       "49                                                                                NaN  \n",
       "50                                                                                NaN  \n",
       "51                                                                                NaN  \n",
       "52                                                                                NaN  \n",
       "53                                                                                NaN  \n",
       "54                                                                                NaN  \n",
       "55                                                                                NaN  \n",
       "56                                                                                NaN  "
      ]
     },
     "execution_count": 176,
     "metadata": {},
     "output_type": "execute_result"
    }
   ],
   "source": [
    "eniac_b"
   ]
  },
  {
   "cell_type": "markdown",
   "metadata": {},
   "source": [
    "The dataset has the number of clicks in the [No. clicks] column, with the [Name] column with value 'SHOP NOW'.\n",
    "\n",
    "Total number of clicks in the sum of the [No. clicks] column."
   ]
  },
  {
   "cell_type": "markdown",
   "metadata": {},
   "source": [
    "## 3. Creating contingent table"
   ]
  },
  {
   "cell_type": "code",
   "execution_count": 207,
   "metadata": {},
   "outputs": [
    {
     "data": {
      "text/plain": [
       "0.00022379716518278195"
      ]
     },
     "execution_count": 207,
     "metadata": {},
     "output_type": "execute_result"
    }
   ],
   "source": [
    "click = [\n",
    "          eniac_a.loc[eniac_a['Name'] == 'SHOP NOW', 'No. clicks'].values[0]\n",
    "        , eniac_d.loc[eniac_d['Name'] == 'SEE DEALS', 'No. clicks'].values[0]]\n",
    "no_click = [\n",
    "      int(eniac_a.loc[eniac_a['Name'] == 'mySidebar', 'Snapshot information'].str.extract(r'\\s(\\d+)\\svisits').values[0][0]) - click[0]\n",
    "    , int(eniac_d.loc[eniac_d['Name'] == 'mySidebar', 'Snapshot information'].str.extract(r'\\s(\\d+)\\svisits').values[0][0]) - click[1]]\n",
    "\n",
    "clicks2 = pd.DataFrame([click, no_click],\n",
    "                                  columns = [\"a\", \"c\"],\n",
    "                                  index = [\"click\", \"no-click\"])\n",
    "\n",
    "clicks2 = clicks2/10\n",
    "statistic, pvalue, dof, freq = stats.chi2_contingency(clicks2)\n",
    "freq = pd.DataFrame(freq, columns = ['a', 'd'], index = ['click', 'no-click'])\n",
    "pvalue"
   ]
  },
  {
   "cell_type": "code",
   "execution_count": 177,
   "metadata": {},
   "outputs": [
    {
     "data": {
      "text/html": [
       "<div>\n",
       "<style scoped>\n",
       "    .dataframe tbody tr th:only-of-type {\n",
       "        vertical-align: middle;\n",
       "    }\n",
       "\n",
       "    .dataframe tbody tr th {\n",
       "        vertical-align: top;\n",
       "    }\n",
       "\n",
       "    .dataframe thead th {\n",
       "        text-align: right;\n",
       "    }\n",
       "</style>\n",
       "<table border=\"1\" class=\"dataframe\">\n",
       "  <thead>\n",
       "    <tr style=\"text-align: right;\">\n",
       "      <th></th>\n",
       "      <th>a</th>\n",
       "      <th>b</th>\n",
       "      <th>c</th>\n",
       "      <th>d</th>\n",
       "    </tr>\n",
       "  </thead>\n",
       "  <tbody>\n",
       "    <tr>\n",
       "      <th>click</th>\n",
       "      <td>512.000</td>\n",
       "      <td>281.000</td>\n",
       "      <td>527.000</td>\n",
       "      <td>193.000</td>\n",
       "    </tr>\n",
       "    <tr>\n",
       "      <th>no-click</th>\n",
       "      <td>24814.000</td>\n",
       "      <td>24466.000</td>\n",
       "      <td>24349.000</td>\n",
       "      <td>25040.000</td>\n",
       "    </tr>\n",
       "    <tr>\n",
       "      <th>CTR/10000</th>\n",
       "      <td>202.164</td>\n",
       "      <td>113.549</td>\n",
       "      <td>211.851</td>\n",
       "      <td>76.487</td>\n",
       "    </tr>\n",
       "  </tbody>\n",
       "</table>\n",
       "</div>"
      ],
      "text/plain": [
       "                  a         b         c         d\n",
       "click       512.000   281.000   527.000   193.000\n",
       "no-click  24814.000 24466.000 24349.000 25040.000\n",
       "CTR/10000   202.164   113.549   211.851    76.487"
      ]
     },
     "execution_count": 177,
     "metadata": {},
     "output_type": "execute_result"
    }
   ],
   "source": [
    "click = [\n",
    "          eniac_a.loc[eniac_a['Name'] == 'SHOP NOW', 'No. clicks'].values[0]\n",
    "        , eniac_b.loc[eniac_b['Name'] == 'SHOP NOW', 'No. clicks'].values[0]\n",
    "        , eniac_c.loc[eniac_c['Name'] == 'SEE DEALS', 'No. clicks'].values[0]\n",
    "        , eniac_d.loc[eniac_d['Name'] == 'SEE DEALS', 'No. clicks'].values[0]]\n",
    "no_click = [\n",
    "      int(eniac_a.loc[eniac_a['Name'] == 'mySidebar', 'Snapshot information'].str.extract(r'\\s(\\d+)\\svisits').values[0][0]) - click[0]\n",
    "    , int(eniac_b.loc[eniac_b['Name'] == 'mySidebar', 'Snapshot information'].str.extract(r'\\s(\\d+)\\svisits').values[0][0]) - click[1]\n",
    "    , int(eniac_c.loc[eniac_c['Name'] == 'mySidebar', 'Snapshot information'].str.extract(r'\\s(\\d+)\\svisits').values[0][0]) - click[2]\n",
    "    , int(eniac_d.loc[eniac_d['Name'] == 'mySidebar', 'Snapshot information'].str.extract(r'\\s(\\d+)\\svisits').values[0][0]) - click[3]]\n",
    "\n",
    "clicks = pd.DataFrame([click, no_click],\n",
    "                                  columns = [\"a\", \"b\", \"c\", 'd'],\n",
    "                                  index = [\"click\", \"no-click\"])\n",
    "clicks_ctr = clicks.copy()\n",
    "clicks_ctr.loc['CTR/10000'] = clicks_ctr.iloc[0] / (clicks_ctr.iloc[1] + clicks_ctr.iloc[0]) * 10000\n",
    "clicks_ctr"
   ]
  },
  {
   "cell_type": "markdown",
   "metadata": {},
   "source": [
    "## 4. Calculating statistics"
   ]
  },
  {
   "cell_type": "markdown",
   "metadata": {},
   "source": [
    "Chi-squared test:"
   ]
  },
  {
   "cell_type": "code",
   "execution_count": 178,
   "metadata": {},
   "outputs": [],
   "source": [
    "statistic, pvalue, dof, freq = stats.chi2_contingency(clicks)\n",
    "freq = pd.DataFrame(freq, columns = ['a', 'b', 'c', 'd'], index = ['click', 'no-click'])"
   ]
  },
  {
   "cell_type": "code",
   "execution_count": 179,
   "metadata": {},
   "outputs": [
    {
     "name": "stdout",
     "output_type": "stream",
     "text": [
      "statistic: 224.01877488058412\n",
      "pvalue: 2.7161216607868712e-48\n",
      "dof: 3\n",
      "freq: \n"
     ]
    },
    {
     "data": {
      "text/html": [
       "<div>\n",
       "<style scoped>\n",
       "    .dataframe tbody tr th:only-of-type {\n",
       "        vertical-align: middle;\n",
       "    }\n",
       "\n",
       "    .dataframe tbody tr th {\n",
       "        vertical-align: top;\n",
       "    }\n",
       "\n",
       "    .dataframe thead th {\n",
       "        text-align: right;\n",
       "    }\n",
       "</style>\n",
       "<table border=\"1\" class=\"dataframe\">\n",
       "  <thead>\n",
       "    <tr style=\"text-align: right;\">\n",
       "      <th></th>\n",
       "      <th>a</th>\n",
       "      <th>b</th>\n",
       "      <th>c</th>\n",
       "      <th>d</th>\n",
       "    </tr>\n",
       "  </thead>\n",
       "  <tbody>\n",
       "    <tr>\n",
       "      <th>click</th>\n",
       "      <td>382.486</td>\n",
       "      <td>373.742</td>\n",
       "      <td>375.690</td>\n",
       "      <td>381.082</td>\n",
       "    </tr>\n",
       "    <tr>\n",
       "      <th>no-click</th>\n",
       "      <td>24943.514</td>\n",
       "      <td>24373.258</td>\n",
       "      <td>24500.310</td>\n",
       "      <td>24851.918</td>\n",
       "    </tr>\n",
       "  </tbody>\n",
       "</table>\n",
       "</div>"
      ],
      "text/plain": [
       "                 a         b         c         d\n",
       "click      382.486   373.742   375.690   381.082\n",
       "no-click 24943.514 24373.258 24500.310 24851.918"
      ]
     },
     "execution_count": 179,
     "metadata": {},
     "output_type": "execute_result"
    }
   ],
   "source": [
    "print(f'statistic: {statistic}')\n",
    "print(f'pvalue: {pvalue}')\n",
    "print(f'dof: {dof}')\n",
    "print(f'freq: ')\n",
    "freq\n"
   ]
  },
  {
   "cell_type": "markdown",
   "metadata": {},
   "source": [
    "## 5. Conclusion 1"
   ]
  },
  {
   "cell_type": "markdown",
   "metadata": {},
   "source": [
    "We reject the H<sub>0</sub> that the site versions have the same CTR.\n",
    "\n",
    "We also need to figure out which site has the highest CTR and whether or not it is statistically significant."
   ]
  },
  {
   "cell_type": "code",
   "execution_count": 180,
   "metadata": {},
   "outputs": [
    {
     "data": {
      "text/html": [
       "<div>\n",
       "<style scoped>\n",
       "    .dataframe tbody tr th:only-of-type {\n",
       "        vertical-align: middle;\n",
       "    }\n",
       "\n",
       "    .dataframe tbody tr th {\n",
       "        vertical-align: top;\n",
       "    }\n",
       "\n",
       "    .dataframe thead th {\n",
       "        text-align: right;\n",
       "    }\n",
       "</style>\n",
       "<table border=\"1\" class=\"dataframe\">\n",
       "  <thead>\n",
       "    <tr style=\"text-align: right;\">\n",
       "      <th></th>\n",
       "      <th>a</th>\n",
       "      <th>b</th>\n",
       "      <th>c</th>\n",
       "      <th>d</th>\n",
       "    </tr>\n",
       "  </thead>\n",
       "  <tbody>\n",
       "    <tr>\n",
       "      <th>click</th>\n",
       "      <td>512.000</td>\n",
       "      <td>281.000</td>\n",
       "      <td>527.000</td>\n",
       "      <td>193.000</td>\n",
       "    </tr>\n",
       "    <tr>\n",
       "      <th>no-click</th>\n",
       "      <td>24814.000</td>\n",
       "      <td>24466.000</td>\n",
       "      <td>24349.000</td>\n",
       "      <td>25040.000</td>\n",
       "    </tr>\n",
       "    <tr>\n",
       "      <th>CTR/10000</th>\n",
       "      <td>202.164</td>\n",
       "      <td>113.549</td>\n",
       "      <td>211.851</td>\n",
       "      <td>76.487</td>\n",
       "    </tr>\n",
       "  </tbody>\n",
       "</table>\n",
       "</div>"
      ],
      "text/plain": [
       "                  a         b         c         d\n",
       "click       512.000   281.000   527.000   193.000\n",
       "no-click  24814.000 24466.000 24349.000 25040.000\n",
       "CTR/10000   202.164   113.549   211.851    76.487"
      ]
     },
     "execution_count": 180,
     "metadata": {},
     "output_type": "execute_result"
    }
   ],
   "source": [
    "clicks_ctr"
   ]
  },
  {
   "cell_type": "markdown",
   "metadata": {},
   "source": [
    "## 6. Statistics for version pairs"
   ]
  },
  {
   "cell_type": "markdown",
   "metadata": {},
   "source": [
    "We create tests for all pairs. But we can already see from the CTRs that we especially need to compare a and c versions."
   ]
  },
  {
   "cell_type": "code",
   "execution_count": 181,
   "metadata": {},
   "outputs": [
    {
     "name": "stdout",
     "output_type": "stream",
     "text": [
      "p-value for ab is :0.000\n"
     ]
    }
   ],
   "source": [
    "clicks_ab = clicks.copy()[['a', 'b']]\n",
    "chisq_ab, pvalue_ab, df_ab, expected_ab = stats.chi2_contingency(clicks_ab)\n",
    "print(f'p-value for ab is :{pvalue_ab:.3f}')"
   ]
  },
  {
   "cell_type": "code",
   "execution_count": 182,
   "metadata": {},
   "outputs": [
    {
     "name": "stdout",
     "output_type": "stream",
     "text": [
      "p-value for ac is :0.465\n"
     ]
    }
   ],
   "source": [
    "clicks_ac = clicks.copy()[['a', 'c']]\n",
    "chisq_ac, pvalue_ac, df_ac, freq_ac = stats.chi2_contingency(clicks_ac)\n",
    "print(f'p-value for ac is :{pvalue_ac:.3f}')"
   ]
  },
  {
   "cell_type": "code",
   "execution_count": 183,
   "metadata": {},
   "outputs": [
    {
     "name": "stdout",
     "output_type": "stream",
     "text": [
      "p-value for ad is :0.000\n"
     ]
    }
   ],
   "source": [
    "clicks_ad = clicks.copy()[['a', 'd']]\n",
    "chisq_ad, pvalue_ad, df_ad, expected_ad = stats.chi2_contingency(clicks_ad)\n",
    "print(f'p-value for ad is :{pvalue_ad:.3f}')"
   ]
  },
  {
   "cell_type": "code",
   "execution_count": 184,
   "metadata": {},
   "outputs": [
    {
     "name": "stdout",
     "output_type": "stream",
     "text": [
      "p-value for bc is :0.000\n"
     ]
    }
   ],
   "source": [
    "clicks_bc = clicks.copy()[['b', 'c']]\n",
    "chisq_bc, pvalue_bc, df_bc, expected_bc = stats.chi2_contingency(clicks_bc)\n",
    "print(f'p-value for bc is :{pvalue_bc:.3f}')"
   ]
  },
  {
   "cell_type": "code",
   "execution_count": 185,
   "metadata": {},
   "outputs": [
    {
     "name": "stdout",
     "output_type": "stream",
     "text": [
      "p-value for bd is :0.000\n"
     ]
    }
   ],
   "source": [
    "clicks_bd = clicks.copy()[['b', 'd']]\n",
    "chisq_bd, pvalue_bd, df_bd, expected_bd = stats.chi2_contingency(clicks_bd)\n",
    "print(f'p-value for bd is :{pvalue_bd:.3f}')"
   ]
  },
  {
   "cell_type": "code",
   "execution_count": 186,
   "metadata": {},
   "outputs": [
    {
     "name": "stdout",
     "output_type": "stream",
     "text": [
      "p-value for cd is :0.000\n"
     ]
    }
   ],
   "source": [
    "clicks_cd = clicks.copy()[['c', 'd']]\n",
    "chisq_cd, pvalue_cd, df_cd, expected_cd = stats.chi2_contingency(clicks_cd)\n",
    "print(f'p-value for cd is :{pvalue_cd:.3f}')"
   ]
  },
  {
   "cell_type": "markdown",
   "metadata": {},
   "source": [
    "## 7. Conclusion 2"
   ]
  },
  {
   "cell_type": "markdown",
   "metadata": {},
   "source": [
    "As we can see in the chi-squared test of the a and c versions, they are not statisticaly significantly different.\n",
    "\n",
    "The rest is statistically significant (less than 'α / 6 = 0.008333'), but the versions B and C and worse in performance, so it is not interesting with our case."
   ]
  },
  {
   "cell_type": "code",
   "execution_count": 187,
   "metadata": {},
   "outputs": [
    {
     "data": {
      "text/plain": [
       "0.464842123017306"
      ]
     },
     "execution_count": 187,
     "metadata": {},
     "output_type": "execute_result"
    }
   ],
   "source": [
    "pvalue_ac"
   ]
  },
  {
   "cell_type": "markdown",
   "metadata": {},
   "source": [
    "## 8. Additional metrics"
   ]
  },
  {
   "cell_type": "markdown",
   "metadata": {},
   "source": [
    "We see that the Drop-Off rate for A version is 10% and for C version 12%\n",
    "\n",
    "Similarly, the Homepage-Return rate is 5% for A version and 4.5% for C version"
   ]
  },
  {
   "cell_type": "code",
   "execution_count": 188,
   "metadata": {},
   "outputs": [
    {
     "name": "stdout",
     "output_type": "stream",
     "text": [
      "loss for A version is 0.14490400000000003\n",
      "loss for C version is 0.164296\n"
     ]
    }
   ],
   "source": [
    "loss_a = 1 - (1 - 0.098) * (1 - 0.052)\n",
    "loss_c = 1 - (1 - 0.124) * (1 - 0.046)\n",
    "print(f'loss for A version is {loss_a}')\n",
    "print(f'loss for C version is {loss_c}')\n"
   ]
  },
  {
   "cell_type": "code",
   "execution_count": 232,
   "metadata": {},
   "outputs": [
    {
     "data": {
      "text/html": [
       "<div>\n",
       "<style scoped>\n",
       "    .dataframe tbody tr th:only-of-type {\n",
       "        vertical-align: middle;\n",
       "    }\n",
       "\n",
       "    .dataframe tbody tr th {\n",
       "        vertical-align: top;\n",
       "    }\n",
       "\n",
       "    .dataframe thead th {\n",
       "        text-align: right;\n",
       "    }\n",
       "</style>\n",
       "<table border=\"1\" class=\"dataframe\">\n",
       "  <thead>\n",
       "    <tr style=\"text-align: right;\">\n",
       "      <th></th>\n",
       "      <th>a</th>\n",
       "      <th>c</th>\n",
       "    </tr>\n",
       "  </thead>\n",
       "  <tbody>\n",
       "    <tr>\n",
       "      <th>loss</th>\n",
       "      <td>74.240</td>\n",
       "      <td>86.428</td>\n",
       "    </tr>\n",
       "    <tr>\n",
       "      <th>no-loss</th>\n",
       "      <td>437.760</td>\n",
       "      <td>440.572</td>\n",
       "    </tr>\n",
       "    <tr>\n",
       "      <th>loss/100</th>\n",
       "      <td>16.959</td>\n",
       "      <td>19.617</td>\n",
       "    </tr>\n",
       "  </tbody>\n",
       "</table>\n",
       "</div>"
      ],
      "text/plain": [
       "               a       c\n",
       "loss      74.240  86.428\n",
       "no-loss  437.760 440.572\n",
       "loss/100  16.959  19.617"
      ]
     },
     "execution_count": 232,
     "metadata": {},
     "output_type": "execute_result"
    }
   ],
   "source": [
    "loss = [\n",
    "          512 * 0.145\n",
    "        , 527 * 0.164]\n",
    "no_loss = [\n",
    "      512 * 0.855\n",
    "    , 527 * 0.836]\n",
    "\n",
    "lost_customers = pd.DataFrame([loss, no_loss], columns = ['a', 'c'], index = [\"loss\", \"no-loss\"])\n",
    "\n",
    "lost_customers_ratio = lost_customers.copy()\n",
    "lost_customers_ratio.loc['loss/100'] = lost_customers_ratio.iloc[0] / lost_customers_ratio.iloc[1] * 100\n",
    "lost_customers_ratio"
   ]
  },
  {
   "cell_type": "code",
   "execution_count": 233,
   "metadata": {},
   "outputs": [
    {
     "data": {
      "text/plain": [
       "0.44663435530727624"
      ]
     },
     "execution_count": 233,
     "metadata": {},
     "output_type": "execute_result"
    }
   ],
   "source": [
    "statistic_lc, pvalue_lc, dof_lc, freq_lc = stats.chi2_contingency(lost_customers)\n",
    "freq_lc = pd.DataFrame(freq_lc, columns = ['a', 'c'], index = ['click', 'no-click'])\n",
    "pvalue_lc"
   ]
  },
  {
   "cell_type": "markdown",
   "metadata": {},
   "source": [
    "## 8. Final conclusion"
   ]
  },
  {
   "cell_type": "markdown",
   "metadata": {},
   "source": [
    "Unknown. The version A has statistically insignificant better CTR and version C has statistically insignificant higher drop out."
   ]
  }
 ],
 "metadata": {
  "kernelspec": {
   "display_name": "base",
   "language": "python",
   "name": "python3"
  },
  "language_info": {
   "codemirror_mode": {
    "name": "ipython",
    "version": 3
   },
   "file_extension": ".py",
   "mimetype": "text/x-python",
   "name": "python",
   "nbconvert_exporter": "python",
   "pygments_lexer": "ipython3",
   "version": "3.12.4"
  }
 },
 "nbformat": 4,
 "nbformat_minor": 2
}
