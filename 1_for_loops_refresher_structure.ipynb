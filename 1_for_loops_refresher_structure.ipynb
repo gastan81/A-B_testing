{
 "cells": [
  {
   "cell_type": "markdown",
   "metadata": {
    "colab_type": "text",
    "id": "view-in-github"
   },
   "source": [
    "<a href=\"https://colab.research.google.com/github/gastan81/A-B_testing/blob/main/1_for_loops_refresher_structure.ipynb\" target=\"_parent\"><img src=\"https://colab.research.google.com/assets/colab-badge.svg\" alt=\"Open In Colab\"/></a>"
   ]
  },
  {
   "cell_type": "markdown",
   "metadata": {
    "id": "qcCLIqCWl5BG"
   },
   "source": [
    "### For loops\n",
    "\n",
    "Whenever you want to apply any transformation to all elements in a list, you iterate through them with a `for` loop."
   ]
  },
  {
   "cell_type": "code",
   "execution_count": null,
   "metadata": {
    "id": "4_qdFrsplydj"
   },
   "outputs": [],
   "source": [
    "numbers = [1, 2, 3, 4, 5]\n",
    "\n",
    "for num in numbers:\n",
    "    print(num * 2)\n"
   ]
  },
  {
   "cell_type": "markdown",
   "metadata": {
    "id": "E34xKn6_rJOW"
   },
   "source": [
    "In the example above, we have a list of numbers from 1 to 5. We loop through the list using a `for` loop and define the variable `num` as the variable that will represent each item in the list as we loop through it.\n",
    "\n",
    "Inside the loop, we simply print out the value of `num` multiplied by 2. As the loop runs, the variable `num` will take on each value in the `numbers` list in turn, and the corresponding value multiplied by 2 will be printed."
   ]
  },
  {
   "cell_type": "markdown",
   "metadata": {
    "id": "THsKX2Hjsp4g"
   },
   "source": [
    "If we wanted to store the resulting transformations of our loop into a new list, we would define an empty list first, and then append() all the elements as we iterate through the loop:"
   ]
  },
  {
   "cell_type": "code",
   "execution_count": null,
   "metadata": {
    "id": "BP1lI6PrrEbs"
   },
   "outputs": [],
   "source": [
    "multiplied_by_two_numbers = []\n",
    "\n",
    "for num in numbers:\n",
    "    multiplied_by_two_numbers.append(num * 2)\n",
    "\n",
    "\n",
    "multiplied_by_two_numbers"
   ]
  },
  {
   "cell_type": "markdown",
   "metadata": {
    "id": "BCS5Ayypu2Wt"
   },
   "source": [
    "**Exercise 1** Create a new list `divided_by_two_numbers` by iterating through the `numbers` list with a `for` loop and dividing each element by 2."
   ]
  },
  {
   "cell_type": "code",
   "execution_count": null,
   "metadata": {
    "id": "rSthgUPPtYt6"
   },
   "outputs": [],
   "source": [
    "# Your code here\n",
    "divided_by_two_numbers = []\n",
    "\n",
    "for number in numbers:\n",
    "  divided_by_two_numbers.append(number / 2)\n",
    "\n",
    "divided_by_two_numbers"
   ]
  },
  {
   "cell_type": "markdown",
   "metadata": {
    "id": "sLTvXW-PwL_t"
   },
   "source": [
    "### Conditions with `if`\n",
    "\n",
    "Whenever you want to do something only if a condition is met, you will need an `if` statement. Let's say we want multiply by 2 only the even numbers and multiply by 3 only the odd ones from our `numbers` list."
   ]
  },
  {
   "cell_type": "markdown",
   "metadata": {
    "id": "jb7zNagGyIxA"
   },
   "source": [
    "We can check one by one whether all numbers from our `numbers` list are even using the modulo operator `%`. The `%` operator returns the remainder of a division operation, so if a number is even, dividing it by 2 will result in a remainder of 0."
   ]
  },
  {
   "cell_type": "code",
   "execution_count": null,
   "metadata": {
    "id": "6lLgaP1vwhDM"
   },
   "outputs": [],
   "source": [
    "# numbers = [1, 2, 3, 4, 5]. The first element is 1\n",
    "print((numbers[0] % 2) == 0)\n",
    "\n",
    "# numbers = [1, 2, 3, 4, 5]. The second element is 2\n",
    "print((numbers[1] % 2) == 0)"
   ]
  },
  {
   "cell_type": "markdown",
   "metadata": {
    "id": "MPf8ejor1qX0"
   },
   "source": [
    "These booleans, `True` or `False`, are exactly what `if` statements need. Whenever a condition is true, the code below the `if` statement runs; if the condition is false, the code is skipped and nothing happens:"
   ]
  },
  {
   "cell_type": "code",
   "execution_count": null,
   "metadata": {
    "id": "GmoQl1LNz6M4"
   },
   "outputs": [],
   "source": [
    "condition = True\n",
    "\n",
    "if condition:\n",
    "    print(\"yay\")"
   ]
  },
  {
   "cell_type": "code",
   "execution_count": null,
   "metadata": {
    "id": "opZrA9ZZ2bqe"
   },
   "outputs": [],
   "source": [
    "condition = False\n",
    "\n",
    "if condition:\n",
    "    print(\"yay\")"
   ]
  },
  {
   "cell_type": "markdown",
   "metadata": {
    "id": "khTZ22BS2wTd"
   },
   "source": [
    "Let's run a `for` loop to check which elements from the `numbers` list are even numbers:"
   ]
  },
  {
   "cell_type": "code",
   "execution_count": null,
   "metadata": {
    "id": "cWwn4ZhE2gFy"
   },
   "outputs": [],
   "source": [
    "# numbers = [1, 2, 3, 4, 5]\n",
    "\n",
    "for num in numbers:\n",
    "  if num % 2 == 0:\n",
    "    print(num, \"is even\")"
   ]
  },
  {
   "cell_type": "markdown",
   "metadata": {
    "id": "to3LxOoo3yOM"
   },
   "source": [
    "An `else` statement can be added if you want to do something with the elements that did not meet the condition."
   ]
  },
  {
   "cell_type": "code",
   "execution_count": null,
   "metadata": {
    "id": "6c3ODE863YyJ"
   },
   "outputs": [],
   "source": [
    "# numbers = [1, 2, 3, 4, 5]\n",
    "\n",
    "for num in numbers:\n",
    "    if num % 2 == 0:\n",
    "        print(num, \"is even\")\n",
    "    else:\n",
    "        print(num, \"is odd\")\n"
   ]
  },
  {
   "cell_type": "markdown",
   "metadata": {
    "id": "rOWVxNbF7rmg"
   },
   "source": [
    "So we can now tie everything together:\n",
    "\n",
    "- A for loop that iterates through the numbers in the `numbers` list.\n",
    "\n",
    "- An `if` statment that checks whether a number is even or odd.\n",
    "\n",
    "- Multiply the even numbers by 2 and the odd ones by 3."
   ]
  },
  {
   "cell_type": "code",
   "execution_count": null,
   "metadata": {
    "id": "8reQLQLB39EV"
   },
   "outputs": [],
   "source": [
    "# numbers = [1, 2, 3, 4, 5]\n",
    "\n",
    "for num in numbers:\n",
    "    if num % 2 == 0:\n",
    "        print(num, \"is even,\", num, \"* 2 =\", num * 2)\n",
    "    else:\n",
    "        print(num, \"is odd,\", num, \"* 3 =\", num * 3)"
   ]
  },
  {
   "cell_type": "markdown",
   "metadata": {
    "id": "1rS4QT_wCrzR"
   },
   "source": [
    "#### **Exercise 2:**\n",
    "Using a for loop, write a program that counts the number of vowels (a, e, i, o, u) in the following text: \"Hello world! I am practicing 'for' loops.\"  Print the total count of vowels at the end."
   ]
  },
  {
   "cell_type": "code",
   "execution_count": 3,
   "metadata": {
    "id": "-jHRpqpk-HvH"
   },
   "outputs": [
    {
     "data": {
      "text/plain": [
       "3"
      ]
     },
     "execution_count": 3,
     "metadata": {},
     "output_type": "execute_result"
    }
   ],
   "source": [
    "# Your code here:\n",
    "import pandas as pd\n",
    "\n",
    "vowel_count = 0\n",
    "for letter in 'Hello World!':\n",
    "  if letter.lower() in {'a', 'e', 'i', 'o', 'u', 'y'}:\n",
    "    vowel_count += 1\n",
    "vowel_count"
   ]
  },
  {
   "cell_type": "markdown",
   "metadata": {
    "id": "I7s1w6nEgsHb"
   },
   "source": [
    "#### **Bonus! Exercise 3:**\n",
    "Create a program that finds out your age in a maximum of 8 tries! The program can ask you only one type of question: guessing your age! (e.g. “Are you 47 years old?”) And you can answer only one of these three options:\n",
    "\n",
    "*   younger\n",
    "*   older\n",
    "*   yes\n",
    "\n",
    "Based on your answer the computer can come up with another guess until it finds out your exact age.\n",
    "\n",
    "**Tip:** to solve this task, you will have to use the input() function! More info: [here](https://docs.python.org/3/library/functions.html#input). It is totally normal if you don't know how to approach this exercise right away. Google is your friend! If you are stuck for a long time (above 30 min), and have already tried many things, it's time to ask for help to your instructor."
   ]
  },
  {
   "cell_type": "code",
   "execution_count": null,
   "metadata": {
    "id": "mzqd-DtyELFS"
   },
   "outputs": [
    {
     "name": "stdout",
     "output_type": "stream",
     "text": [
      "Your age is 43!\n",
      "7 questions\n"
     ]
    }
   ],
   "source": [
    "# set variables\n",
    "count = 0\n",
    "min_limit = 0\n",
    "max_limit = None\n",
    "guess = 100\n",
    "\n",
    "# check result and reset variables\n",
    "while min_limit != max_limit:\n",
    "    count += 1\n",
    "    output = input(f'Question {count}: Are you younger, older, or is {guess} your age? Answer: \\'y\\' or \\'o\\' or \\'m\\' ')\n",
    "    if output == 'm':\n",
    "        break\n",
    "    elif output == 'y':\n",
    "        max_limit = guess - 1\n",
    "        guess = int(round((min_limit + max_limit) / 2, 0))\n",
    "    elif output == 'o':\n",
    "        min_limit = guess + 1\n",
    "        if max_limit == None:\n",
    "            guess *= 2\n",
    "        else:\n",
    "            guess = int(round(max_limit / 2 + guess / 2, 0))\n",
    "    else:\n",
    "        count -=1\n",
    "        print('Try answering \\'y\\', \\'o\\' or \\'m\\' only.')\n",
    "        \n",
    "print(f'Your age is {guess} year{'s' if count != 1 else ''}!')\n",
    "print(f'{count} question{'s' if count > 1 else ''}')"
   ]
  }
 ],
 "metadata": {
  "colab": {
   "include_colab_link": true,
   "provenance": []
  },
  "kernelspec": {
   "display_name": "base",
   "language": "python",
   "name": "python3"
  },
  "language_info": {
   "codemirror_mode": {
    "name": "ipython",
    "version": 3
   },
   "file_extension": ".py",
   "mimetype": "text/x-python",
   "name": "python",
   "nbconvert_exporter": "python",
   "pygments_lexer": "ipython3",
   "version": "3.12.4"
  }
 },
 "nbformat": 4,
 "nbformat_minor": 0
}
