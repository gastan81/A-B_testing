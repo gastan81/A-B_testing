{
  "nbformat": 4,
  "nbformat_minor": 0,
  "metadata": {
    "colab": {
      "provenance": [],
      "include_colab_link": true
    },
    "kernelspec": {
      "name": "python3",
      "display_name": "Python 3"
    },
    "language_info": {
      "name": "python"
    }
  },
  "cells": [
    {
      "cell_type": "markdown",
      "metadata": {
        "id": "view-in-github",
        "colab_type": "text"
      },
      "source": [
        "<a href=\"https://colab.research.google.com/github/gastan81/A-B_testing/blob/main/1_for_loops_refresher_structure.ipynb\" target=\"_parent\"><img src=\"https://colab.research.google.com/assets/colab-badge.svg\" alt=\"Open In Colab\"/></a>"
      ]
    },
    {
      "cell_type": "markdown",
      "source": [
        "### For loops\n",
        "\n",
        "Whenever you want to apply any transformation to all elements in a list, you iterate through them with a `for` loop."
      ],
      "metadata": {
        "id": "qcCLIqCWl5BG"
      }
    },
    {
      "cell_type": "code",
      "execution_count": null,
      "metadata": {
        "id": "4_qdFrsplydj"
      },
      "outputs": [],
      "source": [
        "numbers = [1, 2, 3, 4, 5]\n",
        "\n",
        "for num in numbers:\n",
        "    print(num * 2)\n"
      ]
    },
    {
      "cell_type": "markdown",
      "source": [
        "In the example above, we have a list of numbers from 1 to 5. We loop through the list using a `for` loop and define the variable `num` as the variable that will represent each item in the list as we loop through it.\n",
        "\n",
        "Inside the loop, we simply print out the value of `num` multiplied by 2. As the loop runs, the variable `num` will take on each value in the `numbers` list in turn, and the corresponding value multiplied by 2 will be printed."
      ],
      "metadata": {
        "id": "E34xKn6_rJOW"
      }
    },
    {
      "cell_type": "markdown",
      "source": [
        "If we wanted to store the resulting transformations of our loop into a new list, we would define an empty list first, and then append() all the elements as we iterate through the loop:"
      ],
      "metadata": {
        "id": "THsKX2Hjsp4g"
      }
    },
    {
      "cell_type": "code",
      "source": [
        "multiplied_by_two_numbers = []\n",
        "\n",
        "for num in numbers:\n",
        "    multiplied_by_two_numbers.append(num * 2)\n",
        "\n",
        "\n",
        "multiplied_by_two_numbers"
      ],
      "metadata": {
        "id": "BP1lI6PrrEbs"
      },
      "execution_count": null,
      "outputs": []
    },
    {
      "cell_type": "markdown",
      "source": [
        "**Exercise 1** Create a new list `divided_by_two_numbers` by iterating through the `numbers` list with a `for` loop and dividing each element by 2."
      ],
      "metadata": {
        "id": "BCS5Ayypu2Wt"
      }
    },
    {
      "cell_type": "code",
      "source": [
        "# Your code here"
      ],
      "metadata": {
        "id": "rSthgUPPtYt6"
      },
      "execution_count": null,
      "outputs": []
    },
    {
      "cell_type": "markdown",
      "source": [
        "### Conditions with `if`\n",
        "\n",
        "Whenever you want to do something only if a condition is met, you will need an `if` statement. Let's say we want multiply by 2 only the even numbers and multiply by 3 only the odd ones from our `numbers` list."
      ],
      "metadata": {
        "id": "sLTvXW-PwL_t"
      }
    },
    {
      "cell_type": "markdown",
      "source": [
        "We can check one by one whether all numbers from our `numbers` list are even using the modulo operator `%`. The `%` operator returns the remainder of a division operation, so if a number is even, dividing it by 2 will result in a remainder of 0."
      ],
      "metadata": {
        "id": "jb7zNagGyIxA"
      }
    },
    {
      "cell_type": "code",
      "source": [
        "# numbers = [1, 2, 3, 4, 5]. The first element is 1\n",
        "print((numbers[0] % 2) == 0)\n",
        "\n",
        "# numbers = [1, 2, 3, 4, 5]. The second element is 2\n",
        "print((numbers[1] % 2) == 0)"
      ],
      "metadata": {
        "id": "6lLgaP1vwhDM"
      },
      "execution_count": null,
      "outputs": []
    },
    {
      "cell_type": "markdown",
      "source": [
        "These booleans, `True` or `False`, are exactly what `if` statements need. Whenever a condition is true, the code below the `if` statement runs; if the condition is false, the code is skipped and nothing happens:"
      ],
      "metadata": {
        "id": "MPf8ejor1qX0"
      }
    },
    {
      "cell_type": "code",
      "source": [
        "condition = True\n",
        "\n",
        "if condition:\n",
        "    print(\"yay\")"
      ],
      "metadata": {
        "id": "GmoQl1LNz6M4"
      },
      "execution_count": null,
      "outputs": []
    },
    {
      "cell_type": "code",
      "source": [
        "condition = False\n",
        "\n",
        "if condition:\n",
        "    print(\"yay\")"
      ],
      "metadata": {
        "id": "opZrA9ZZ2bqe"
      },
      "execution_count": null,
      "outputs": []
    },
    {
      "cell_type": "markdown",
      "source": [
        "Let's run a `for` loop to check which elements from the `numbers` list are even numbers:"
      ],
      "metadata": {
        "id": "khTZ22BS2wTd"
      }
    },
    {
      "cell_type": "code",
      "source": [
        "# numbers = [1, 2, 3, 4, 5]\n",
        "\n",
        "for num in numbers:\n",
        "  if num % 2 == 0:\n",
        "    print(num, \"is even\")"
      ],
      "metadata": {
        "id": "cWwn4ZhE2gFy"
      },
      "execution_count": null,
      "outputs": []
    },
    {
      "cell_type": "markdown",
      "source": [
        "An `else` statement can be added if you want to do something with the elements that did not meet the condition."
      ],
      "metadata": {
        "id": "to3LxOoo3yOM"
      }
    },
    {
      "cell_type": "code",
      "source": [
        "# numbers = [1, 2, 3, 4, 5]\n",
        "\n",
        "for num in numbers:\n",
        "    if num % 2 == 0:\n",
        "        print(num, \"is even\")\n",
        "    else:\n",
        "        print(num, \"is odd\")\n"
      ],
      "metadata": {
        "id": "6c3ODE863YyJ"
      },
      "execution_count": null,
      "outputs": []
    },
    {
      "cell_type": "markdown",
      "source": [
        "So we can now tie everything together:\n",
        "\n",
        "- A for loop that iterates through the numbers in the `numbers` list.\n",
        "\n",
        "- An `if` statment that checks whether a number is even or odd.\n",
        "\n",
        "- Multiply the even numbers by 2 and the odd ones by 3."
      ],
      "metadata": {
        "id": "rOWVxNbF7rmg"
      }
    },
    {
      "cell_type": "code",
      "source": [
        "# numbers = [1, 2, 3, 4, 5]\n",
        "\n",
        "for num in numbers:\n",
        "    if num % 2 == 0:\n",
        "        print(num, \"is even,\", num, \"* 2 =\", num * 2)\n",
        "    else:\n",
        "        print(num, \"is odd,\", num, \"* 3 =\", num * 3)"
      ],
      "metadata": {
        "id": "8reQLQLB39EV"
      },
      "execution_count": null,
      "outputs": []
    },
    {
      "cell_type": "markdown",
      "source": [
        "#### **Exercise 2:**\n",
        "Using a for loop, write a program that counts the number of vowels (a, e, i, o, u) in the following text: \"Hello world! I am practicing 'for' loops.\"  Print the total count of vowels at the end."
      ],
      "metadata": {
        "id": "1rS4QT_wCrzR"
      }
    },
    {
      "cell_type": "code",
      "source": [
        "# Your code here:"
      ],
      "metadata": {
        "id": "-jHRpqpk-HvH"
      },
      "execution_count": null,
      "outputs": []
    },
    {
      "cell_type": "markdown",
      "source": [
        "#### **Bonus! Exercise 3:**\n",
        "Create a program that finds out your age in a maximum of 8 tries! The program can ask you only one type of question: guessing your age! (e.g. “Are you 47 years old?”) And you can answer only one of these three options:\n",
        "\n",
        "*   younger\n",
        "*   older\n",
        "*   yes\n",
        "\n",
        "Based on your answer the computer can come up with another guess until it finds out your exact age.\n",
        "\n",
        "**Tip:** to solve this task, you will have to use the input() function! More info: [here](https://docs.python.org/3/library/functions.html#input). It is totally normal if you don't know how to approach this exercise right away. Google is your friend! If you are stuck for a long time (above 30 min), and have already tried many things, it's time to ask for help to your instructor."
      ],
      "metadata": {
        "id": "I7s1w6nEgsHb"
      }
    },
    {
      "cell_type": "code",
      "source": [
        "# your code here"
      ],
      "metadata": {
        "id": "mzqd-DtyELFS"
      },
      "execution_count": null,
      "outputs": []
    }
  ]
}